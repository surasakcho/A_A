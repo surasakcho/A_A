{
  "nbformat": 4,
  "nbformat_minor": 0,
  "metadata": {
    "colab": {
      "name": "01-03-colab-ls8-polygon-pixel-rowcol-d.ipynb",
      "provenance": [],
      "collapsed_sections": [],
      "toc_visible": true,
      "authorship_tag": "ABX9TyMXJM9rY5Tm7kiUdG5qXJng",
      "include_colab_link": true
    },
    "kernelspec": {
      "name": "python3",
      "display_name": "Python 3"
    },
    "widgets": {
      "application/vnd.jupyter.widget-state+json": {
        "1d5d2b1a2d1b458cac947badbdbf8756": {
          "model_module": "@jupyter-widgets/controls",
          "model_name": "HBoxModel",
          "state": {
            "_view_name": "HBoxView",
            "_dom_classes": [],
            "_model_name": "HBoxModel",
            "_view_module": "@jupyter-widgets/controls",
            "_model_module_version": "1.5.0",
            "_view_count": null,
            "_view_module_version": "1.5.0",
            "box_style": "",
            "layout": "IPY_MODEL_16f1d4013be44baa8ef98388cfe1e918",
            "_model_module": "@jupyter-widgets/controls",
            "children": [
              "IPY_MODEL_4bd7d35e872048e895fa2e05888f174c",
              "IPY_MODEL_fd022f92a2514540bf02975b68ab0986"
            ]
          }
        },
        "16f1d4013be44baa8ef98388cfe1e918": {
          "model_module": "@jupyter-widgets/base",
          "model_name": "LayoutModel",
          "state": {
            "_view_name": "LayoutView",
            "grid_template_rows": null,
            "right": null,
            "justify_content": null,
            "_view_module": "@jupyter-widgets/base",
            "overflow": null,
            "_model_module_version": "1.2.0",
            "_view_count": null,
            "flex_flow": null,
            "width": null,
            "min_width": null,
            "border": null,
            "align_items": null,
            "bottom": null,
            "_model_module": "@jupyter-widgets/base",
            "top": null,
            "grid_column": null,
            "overflow_y": null,
            "overflow_x": null,
            "grid_auto_flow": null,
            "grid_area": null,
            "grid_template_columns": null,
            "flex": null,
            "_model_name": "LayoutModel",
            "justify_items": null,
            "grid_row": null,
            "max_height": null,
            "align_content": null,
            "visibility": null,
            "align_self": null,
            "height": null,
            "min_height": null,
            "padding": null,
            "grid_auto_rows": null,
            "grid_gap": null,
            "max_width": null,
            "order": null,
            "_view_module_version": "1.2.0",
            "grid_template_areas": null,
            "object_position": null,
            "object_fit": null,
            "grid_auto_columns": null,
            "margin": null,
            "display": null,
            "left": null
          }
        },
        "4bd7d35e872048e895fa2e05888f174c": {
          "model_module": "@jupyter-widgets/controls",
          "model_name": "IntProgressModel",
          "state": {
            "_view_name": "ProgressView",
            "style": "IPY_MODEL_d27ee6f5230f425ba725723caa94cbc8",
            "_dom_classes": [],
            "description": "",
            "_model_name": "IntProgressModel",
            "bar_style": "",
            "max": 77,
            "_view_module": "@jupyter-widgets/controls",
            "_model_module_version": "1.5.0",
            "value": 9,
            "_view_count": null,
            "_view_module_version": "1.5.0",
            "orientation": "horizontal",
            "min": 0,
            "description_tooltip": null,
            "_model_module": "@jupyter-widgets/controls",
            "layout": "IPY_MODEL_4b2260a5172b492da2142883264e619b"
          }
        },
        "fd022f92a2514540bf02975b68ab0986": {
          "model_module": "@jupyter-widgets/controls",
          "model_name": "HTMLModel",
          "state": {
            "_view_name": "HTMLView",
            "style": "IPY_MODEL_19f07a64c91b409eb398bff44def6507",
            "_dom_classes": [],
            "description": "",
            "_model_name": "HTMLModel",
            "placeholder": "​",
            "_view_module": "@jupyter-widgets/controls",
            "_model_module_version": "1.5.0",
            "value": " 12% 9/77 [41:07&lt;6:55:50, 366.91s/it]",
            "_view_count": null,
            "_view_module_version": "1.5.0",
            "description_tooltip": null,
            "_model_module": "@jupyter-widgets/controls",
            "layout": "IPY_MODEL_24497e98c18c4ac8842a2d8dc7d76ff2"
          }
        },
        "d27ee6f5230f425ba725723caa94cbc8": {
          "model_module": "@jupyter-widgets/controls",
          "model_name": "ProgressStyleModel",
          "state": {
            "_view_name": "StyleView",
            "_model_name": "ProgressStyleModel",
            "description_width": "",
            "_view_module": "@jupyter-widgets/base",
            "_model_module_version": "1.5.0",
            "_view_count": null,
            "_view_module_version": "1.2.0",
            "bar_color": null,
            "_model_module": "@jupyter-widgets/controls"
          }
        },
        "4b2260a5172b492da2142883264e619b": {
          "model_module": "@jupyter-widgets/base",
          "model_name": "LayoutModel",
          "state": {
            "_view_name": "LayoutView",
            "grid_template_rows": null,
            "right": null,
            "justify_content": null,
            "_view_module": "@jupyter-widgets/base",
            "overflow": null,
            "_model_module_version": "1.2.0",
            "_view_count": null,
            "flex_flow": null,
            "width": null,
            "min_width": null,
            "border": null,
            "align_items": null,
            "bottom": null,
            "_model_module": "@jupyter-widgets/base",
            "top": null,
            "grid_column": null,
            "overflow_y": null,
            "overflow_x": null,
            "grid_auto_flow": null,
            "grid_area": null,
            "grid_template_columns": null,
            "flex": null,
            "_model_name": "LayoutModel",
            "justify_items": null,
            "grid_row": null,
            "max_height": null,
            "align_content": null,
            "visibility": null,
            "align_self": null,
            "height": null,
            "min_height": null,
            "padding": null,
            "grid_auto_rows": null,
            "grid_gap": null,
            "max_width": null,
            "order": null,
            "_view_module_version": "1.2.0",
            "grid_template_areas": null,
            "object_position": null,
            "object_fit": null,
            "grid_auto_columns": null,
            "margin": null,
            "display": null,
            "left": null
          }
        },
        "19f07a64c91b409eb398bff44def6507": {
          "model_module": "@jupyter-widgets/controls",
          "model_name": "DescriptionStyleModel",
          "state": {
            "_view_name": "StyleView",
            "_model_name": "DescriptionStyleModel",
            "description_width": "",
            "_view_module": "@jupyter-widgets/base",
            "_model_module_version": "1.5.0",
            "_view_count": null,
            "_view_module_version": "1.2.0",
            "_model_module": "@jupyter-widgets/controls"
          }
        },
        "24497e98c18c4ac8842a2d8dc7d76ff2": {
          "model_module": "@jupyter-widgets/base",
          "model_name": "LayoutModel",
          "state": {
            "_view_name": "LayoutView",
            "grid_template_rows": null,
            "right": null,
            "justify_content": null,
            "_view_module": "@jupyter-widgets/base",
            "overflow": null,
            "_model_module_version": "1.2.0",
            "_view_count": null,
            "flex_flow": null,
            "width": null,
            "min_width": null,
            "border": null,
            "align_items": null,
            "bottom": null,
            "_model_module": "@jupyter-widgets/base",
            "top": null,
            "grid_column": null,
            "overflow_y": null,
            "overflow_x": null,
            "grid_auto_flow": null,
            "grid_area": null,
            "grid_template_columns": null,
            "flex": null,
            "_model_name": "LayoutModel",
            "justify_items": null,
            "grid_row": null,
            "max_height": null,
            "align_content": null,
            "visibility": null,
            "align_self": null,
            "height": null,
            "min_height": null,
            "padding": null,
            "grid_auto_rows": null,
            "grid_gap": null,
            "max_width": null,
            "order": null,
            "_view_module_version": "1.2.0",
            "grid_template_areas": null,
            "object_position": null,
            "object_fit": null,
            "grid_auto_columns": null,
            "margin": null,
            "display": null,
            "left": null
          }
        }
      }
    }
  },
  "cells": [
    {
      "cell_type": "markdown",
      "metadata": {
        "id": "view-in-github",
        "colab_type": "text"
      },
      "source": [
        "<a href=\"https://colab.research.google.com/github/surasakcho/A_A/blob/master/01_03_colab_ls8_polygon_pixel_rowcol_d.ipynb\" target=\"_parent\"><img src=\"https://colab.research.google.com/assets/colab-badge.svg\" alt=\"Open In Colab\"/></a>"
      ]
    },
    {
      "cell_type": "markdown",
      "metadata": {
        "id": "3B53ACKipiOP",
        "colab_type": "text"
      },
      "source": [
        "# Install libraries & Mount google drive"
      ]
    },
    {
      "cell_type": "code",
      "metadata": {
        "colab_type": "code",
        "outputId": "9337d63e-e9df-497d-d4a0-e63cf8e83ef1",
        "id": "bxqYjWtDJb4b",
        "colab": {
          "base_uri": "https://localhost:8080/",
          "height": 122
        }
      },
      "source": [
        "from google.colab import drive\n",
        "drive.mount('/content/drive')"
      ],
      "execution_count": 1,
      "outputs": [
        {
          "output_type": "stream",
          "text": [
            "Go to this URL in a browser: https://accounts.google.com/o/oauth2/auth?client_id=947318989803-6bn6qk8qdgf4n4g3pfee6491hc0brc4i.apps.googleusercontent.com&redirect_uri=urn%3aietf%3awg%3aoauth%3a2.0%3aoob&response_type=code&scope=email%20https%3a%2f%2fwww.googleapis.com%2fauth%2fdocs.test%20https%3a%2f%2fwww.googleapis.com%2fauth%2fdrive%20https%3a%2f%2fwww.googleapis.com%2fauth%2fdrive.photos.readonly%20https%3a%2f%2fwww.googleapis.com%2fauth%2fpeopleapi.readonly\n",
            "\n",
            "Enter your authorization code:\n",
            "··········\n",
            "Mounted at /content/drive\n"
          ],
          "name": "stdout"
        }
      ]
    },
    {
      "cell_type": "code",
      "metadata": {
        "id": "w61nJbGYpHb3",
        "colab_type": "code",
        "outputId": "1cb6f945-a24d-4edd-b295-475d52bdbbe8",
        "colab": {
          "base_uri": "https://localhost:8080/",
          "height": 697
        }
      },
      "source": [
        "!pip install rasterio\n",
        "!pip install geopandas\n"
      ],
      "execution_count": 2,
      "outputs": [
        {
          "output_type": "stream",
          "text": [
            "Collecting rasterio\n",
            "\u001b[?25l  Downloading https://files.pythonhosted.org/packages/c7/81/13321f88f582a00705c5f348724728e8999136e19d6e7c56f7e6ac9bb7f9/rasterio-1.1.3-cp36-cp36m-manylinux1_x86_64.whl (18.1MB)\n",
            "\u001b[K     |████████████████████████████████| 18.1MB 238kB/s \n",
            "\u001b[?25hCollecting click-plugins\n",
            "  Downloading https://files.pythonhosted.org/packages/e9/da/824b92d9942f4e472702488857914bdd50f73021efea15b4cad9aca8ecef/click_plugins-1.1.1-py2.py3-none-any.whl\n",
            "Requirement already satisfied: attrs in /usr/local/lib/python3.6/dist-packages (from rasterio) (19.3.0)\n",
            "Collecting snuggs>=1.4.1\n",
            "  Downloading https://files.pythonhosted.org/packages/cc/0e/d27d6e806d6c0d1a2cfdc5d1f088e42339a0a54a09c3343f7f81ec8947ea/snuggs-1.4.7-py3-none-any.whl\n",
            "Collecting cligj>=0.5\n",
            "  Downloading https://files.pythonhosted.org/packages/e4/be/30a58b4b0733850280d01f8bd132591b4668ed5c7046761098d665ac2174/cligj-0.5.0-py3-none-any.whl\n",
            "Requirement already satisfied: numpy in /usr/local/lib/python3.6/dist-packages (from rasterio) (1.18.1)\n",
            "Requirement already satisfied: click<8,>=4.0 in /usr/local/lib/python3.6/dist-packages (from rasterio) (7.1.1)\n",
            "Collecting affine\n",
            "  Downloading https://files.pythonhosted.org/packages/ac/a6/1a39a1ede71210e3ddaf623982b06ecfc5c5c03741ae659073159184cd3e/affine-2.3.0-py2.py3-none-any.whl\n",
            "Requirement already satisfied: pyparsing>=2.1.6 in /usr/local/lib/python3.6/dist-packages (from snuggs>=1.4.1->rasterio) (2.4.6)\n",
            "Installing collected packages: click-plugins, snuggs, cligj, affine, rasterio\n",
            "Successfully installed affine-2.3.0 click-plugins-1.1.1 cligj-0.5.0 rasterio-1.1.3 snuggs-1.4.7\n",
            "Collecting geopandas\n",
            "\u001b[?25l  Downloading https://files.pythonhosted.org/packages/83/c5/3cf9cdc39a6f2552922f79915f36b45a95b71fd343cfc51170a5b6ddb6e8/geopandas-0.7.0-py2.py3-none-any.whl (928kB)\n",
            "\u001b[K     |████████████████████████████████| 931kB 2.7MB/s \n",
            "\u001b[?25hCollecting fiona\n",
            "\u001b[?25l  Downloading https://files.pythonhosted.org/packages/ec/20/4e63bc5c6e62df889297b382c3ccd4a7a488b00946aaaf81a118158c6f09/Fiona-1.8.13.post1-cp36-cp36m-manylinux1_x86_64.whl (14.7MB)\n",
            "\u001b[K     |████████████████████████████████| 14.7MB 292kB/s \n",
            "\u001b[?25hRequirement already satisfied: pandas>=0.23.0 in /usr/local/lib/python3.6/dist-packages (from geopandas) (0.25.3)\n",
            "Requirement already satisfied: shapely in /usr/local/lib/python3.6/dist-packages (from geopandas) (1.7.0)\n",
            "Collecting pyproj>=2.2.0\n",
            "\u001b[?25l  Downloading https://files.pythonhosted.org/packages/ce/37/705ee471f71130d4ceee41bbcb06f3b52175cb89273cbb5755ed5e6374e0/pyproj-2.6.0-cp36-cp36m-manylinux2010_x86_64.whl (10.4MB)\n",
            "\u001b[K     |████████████████████████████████| 10.4MB 30.3MB/s \n",
            "\u001b[?25hRequirement already satisfied: click-plugins>=1.0 in /usr/local/lib/python3.6/dist-packages (from fiona->geopandas) (1.1.1)\n",
            "Requirement already satisfied: cligj>=0.5 in /usr/local/lib/python3.6/dist-packages (from fiona->geopandas) (0.5.0)\n",
            "Collecting munch\n",
            "  Downloading https://files.pythonhosted.org/packages/cc/ab/85d8da5c9a45e072301beb37ad7f833cd344e04c817d97e0cc75681d248f/munch-2.5.0-py2.py3-none-any.whl\n",
            "Requirement already satisfied: six>=1.7 in /usr/local/lib/python3.6/dist-packages (from fiona->geopandas) (1.12.0)\n",
            "Requirement already satisfied: attrs>=17 in /usr/local/lib/python3.6/dist-packages (from fiona->geopandas) (19.3.0)\n",
            "Requirement already satisfied: click<8,>=4.0 in /usr/local/lib/python3.6/dist-packages (from fiona->geopandas) (7.1.1)\n",
            "Requirement already satisfied: numpy>=1.13.3 in /usr/local/lib/python3.6/dist-packages (from pandas>=0.23.0->geopandas) (1.18.1)\n",
            "Requirement already satisfied: python-dateutil>=2.6.1 in /usr/local/lib/python3.6/dist-packages (from pandas>=0.23.0->geopandas) (2.8.1)\n",
            "Requirement already satisfied: pytz>=2017.2 in /usr/local/lib/python3.6/dist-packages (from pandas>=0.23.0->geopandas) (2018.9)\n",
            "Installing collected packages: munch, fiona, pyproj, geopandas\n",
            "Successfully installed fiona-1.8.13.post1 geopandas-0.7.0 munch-2.5.0 pyproj-2.6.0\n"
          ],
          "name": "stdout"
        }
      ]
    },
    {
      "cell_type": "code",
      "metadata": {
        "id": "J1X27rahpoWD",
        "colab_type": "code",
        "colab": {}
      },
      "source": [
        "import numpy as np\n",
        "import pandas as pd\n",
        "import os, shutil\n",
        "from glob import glob\n",
        "import re\n",
        "import datetime\n",
        "from datetime import datetime\n",
        "import random\n",
        "from tqdm import tqdm_notebook\n",
        "import pickle\n",
        "import matplotlib.pyplot as plt\n",
        "import geopandas as gpd\n",
        "from pyproj import CRS\n",
        "import rasterio\n",
        "from rasterio import plot\n",
        "from rasterio.transform import from_origin\n",
        "from rasterio.warp import reproject, Resampling\n",
        "from rasterio.mask import mask\n",
        "from shapely.geometry import Polygon, mapping\n",
        "\n",
        "%matplotlib inline"
      ],
      "execution_count": 0,
      "outputs": []
    },
    {
      "cell_type": "markdown",
      "metadata": {
        "id": "BJYApbR-yD3L",
        "colab_type": "text"
      },
      "source": [
        "# Define functions"
      ]
    },
    {
      "cell_type": "code",
      "metadata": {
        "id": "Iqc40ehZyDHD",
        "colab_type": "code",
        "colab": {}
      },
      "source": [
        "\n",
        "def list_files_re(rootpath, filename_re=None, folder_re=None ):\n",
        "    '''\n",
        "    rootpath : root path to lookup files\n",
        "    filename_re : regular expression to search for filename\n",
        "    folder_re : regular expression to search for folder\n",
        "\n",
        "    return : a list of filepaths\n",
        "    '''\n",
        "\n",
        "\n",
        "    list_files = []\n",
        "    for folder, _, files in os.walk(rootpath):\n",
        "        for file in files:     \n",
        "            if filename_re == None:\n",
        "                filename_re = '.*'\n",
        "            if folder_re == None:\n",
        "                folder_re = '.*'\n",
        "                \n",
        "            if ((re.search(filename_re, file) != None) & (re.search(folder_re, folder) != None)):\n",
        "                list_files.append(os.path.join(folder, file))\n",
        "        \n",
        "    return list_files    \n",
        "        \n",
        "        \n",
        "    "
      ],
      "execution_count": 0,
      "outputs": []
    },
    {
      "cell_type": "code",
      "metadata": {
        "id": "XBnTVHzjpgIy",
        "colab_type": "code",
        "colab": {}
      },
      "source": [
        "\n",
        "def read_pickle(in_pickle_path):\n",
        "    '''\n",
        "    Read a pickle file.\n",
        "\n",
        "    Parameters\n",
        "    ----------------------------------\n",
        "    in_pickle_path : path of pickle to be read\n",
        "\n",
        "    Return\n",
        "    ----------------------------------\n",
        "    An object / variable of read pickle file\n",
        "    '''\n",
        "\n",
        "    pkl_file = open(in_pickle_path, 'rb')\n",
        "    data = pickle.load(pkl_file)\n",
        "    pkl_file.close()\n",
        "\n",
        "    return data"
      ],
      "execution_count": 0,
      "outputs": []
    },
    {
      "cell_type": "markdown",
      "metadata": {
        "id": "vLjKCZ0zueTn",
        "colab_type": "text"
      },
      "source": [
        "# Define paths"
      ]
    },
    {
      "cell_type": "code",
      "metadata": {
        "id": "csv3SLoqpr17",
        "colab_type": "code",
        "colab": {}
      },
      "source": [
        "\n",
        "my_drive_path = \"/content/drive/My Drive/\"\n",
        "\n",
        "landsat_path = os.path.join(my_drive_path, '!landsat8-prep')\n",
        "ndvi_path = os.path.join(landsat_path, 'ndvi')\n",
        "vrt_path = os.path.join(landsat_path, 'vrt')\n",
        "polygon_prov_path = os.path.join(landsat_path, 'plot_polygon_prov_dissolved')\n",
        "pixel_rowcol_map_path = os.path.join(landsat_path, 'pixel_rowcol_mapping')\n"
      ],
      "execution_count": 0,
      "outputs": []
    },
    {
      "cell_type": "code",
      "metadata": {
        "id": "lPClYei8ub7e",
        "colab_type": "code",
        "outputId": "998b5571-2a97-444d-bfc7-2115a66b269c",
        "colab": {
          "base_uri": "https://localhost:8080/",
          "height": 34
        }
      },
      "source": [
        "pixel_rowcol_map_path"
      ],
      "execution_count": 7,
      "outputs": [
        {
          "output_type": "execute_result",
          "data": {
            "text/plain": [
              "'/content/drive/My Drive/!landsat8-prep/pixel_rowcol_mapping'"
            ]
          },
          "metadata": {
            "tags": []
          },
          "execution_count": 7
        }
      ]
    },
    {
      "cell_type": "markdown",
      "metadata": {
        "id": "xKO_iX5UDc04",
        "colab_type": "text"
      },
      "source": [
        "# Define parameters"
      ]
    },
    {
      "cell_type": "code",
      "metadata": {
        "id": "ZcKmWOS_uQ9b",
        "colab_type": "code",
        "colab": {}
      },
      "source": [
        "crs_4326 = {'init' : 'epsg:4326'}\n",
        "crs_47 = {'init' : 'epsg:32647'}\n",
        "crs_48 = {'init' : 'epsg:32648'}"
      ],
      "execution_count": 0,
      "outputs": []
    },
    {
      "cell_type": "markdown",
      "metadata": {
        "id": "TSX2mWDcuBqk",
        "colab_type": "text"
      },
      "source": [
        "# Get files list"
      ]
    },
    {
      "cell_type": "code",
      "metadata": {
        "id": "m_eEKTLquMBz",
        "colab_type": "code",
        "colab": {}
      },
      "source": [
        "#vrt files\n",
        "list_pixel_rowcol_map_files = list_files_re(pixel_rowcol_map_path, '.tif')\n",
        "list_pixel_rowcol_map_files.sort()\n",
        "\n",
        "#polygon prov files (pickle of gdf)\n",
        "list_polygon_prov_files = list_files_re(polygon_prov_path, '.pkl')\n",
        "\n",
        "#shuffle polygon list for multiple execution\n",
        "random.shuffle(list_polygon_prov_files)\n",
        "#list_polygon_prov_files.sort()\n",
        "\n"
      ],
      "execution_count": 0,
      "outputs": []
    },
    {
      "cell_type": "code",
      "metadata": {
        "id": "cVhubqCea7i6",
        "colab_type": "code",
        "outputId": "e4f13ba8-033d-40eb-b8b9-5085d0c7f9c6",
        "colab": {
          "base_uri": "https://localhost:8080/",
          "height": 833
        }
      },
      "source": [
        "list_pixel_rowcol_map_files"
      ],
      "execution_count": 10,
      "outputs": [
        {
          "output_type": "execute_result",
          "data": {
            "text/plain": [
              "['/content/drive/My Drive/!landsat8-prep/pixel_rowcol_mapping/ls8_pixel_rowcol_map_126049.tif',\n",
              " '/content/drive/My Drive/!landsat8-prep/pixel_rowcol_mapping/ls8_pixel_rowcol_map_126050.tif',\n",
              " '/content/drive/My Drive/!landsat8-prep/pixel_rowcol_mapping/ls8_pixel_rowcol_map_127047.tif',\n",
              " '/content/drive/My Drive/!landsat8-prep/pixel_rowcol_mapping/ls8_pixel_rowcol_map_127048.tif',\n",
              " '/content/drive/My Drive/!landsat8-prep/pixel_rowcol_mapping/ls8_pixel_rowcol_map_127049.tif',\n",
              " '/content/drive/My Drive/!landsat8-prep/pixel_rowcol_mapping/ls8_pixel_rowcol_map_127050.tif',\n",
              " '/content/drive/My Drive/!landsat8-prep/pixel_rowcol_mapping/ls8_pixel_rowcol_map_127051.tif',\n",
              " '/content/drive/My Drive/!landsat8-prep/pixel_rowcol_mapping/ls8_pixel_rowcol_map_127052.tif',\n",
              " '/content/drive/My Drive/!landsat8-prep/pixel_rowcol_mapping/ls8_pixel_rowcol_map_127055.tif',\n",
              " '/content/drive/My Drive/!landsat8-prep/pixel_rowcol_mapping/ls8_pixel_rowcol_map_127056.tif',\n",
              " '/content/drive/My Drive/!landsat8-prep/pixel_rowcol_mapping/ls8_pixel_rowcol_map_128047.tif',\n",
              " '/content/drive/My Drive/!landsat8-prep/pixel_rowcol_mapping/ls8_pixel_rowcol_map_128048.tif',\n",
              " '/content/drive/My Drive/!landsat8-prep/pixel_rowcol_mapping/ls8_pixel_rowcol_map_128049.tif',\n",
              " '/content/drive/My Drive/!landsat8-prep/pixel_rowcol_mapping/ls8_pixel_rowcol_map_128050.tif',\n",
              " '/content/drive/My Drive/!landsat8-prep/pixel_rowcol_mapping/ls8_pixel_rowcol_map_128051.tif',\n",
              " '/content/drive/My Drive/!landsat8-prep/pixel_rowcol_mapping/ls8_pixel_rowcol_map_128052.tif',\n",
              " '/content/drive/My Drive/!landsat8-prep/pixel_rowcol_mapping/ls8_pixel_rowcol_map_128054.tif',\n",
              " '/content/drive/My Drive/!landsat8-prep/pixel_rowcol_mapping/ls8_pixel_rowcol_map_128055.tif',\n",
              " '/content/drive/My Drive/!landsat8-prep/pixel_rowcol_mapping/ls8_pixel_rowcol_map_128056.tif',\n",
              " '/content/drive/My Drive/!landsat8-prep/pixel_rowcol_mapping/ls8_pixel_rowcol_map_129046.tif',\n",
              " '/content/drive/My Drive/!landsat8-prep/pixel_rowcol_mapping/ls8_pixel_rowcol_map_129047.tif',\n",
              " '/content/drive/My Drive/!landsat8-prep/pixel_rowcol_mapping/ls8_pixel_rowcol_map_129048.tif',\n",
              " '/content/drive/My Drive/!landsat8-prep/pixel_rowcol_mapping/ls8_pixel_rowcol_map_129049.tif',\n",
              " '/content/drive/My Drive/!landsat8-prep/pixel_rowcol_mapping/ls8_pixel_rowcol_map_129050.tif',\n",
              " '/content/drive/My Drive/!landsat8-prep/pixel_rowcol_mapping/ls8_pixel_rowcol_map_129051.tif',\n",
              " '/content/drive/My Drive/!landsat8-prep/pixel_rowcol_mapping/ls8_pixel_rowcol_map_129052.tif',\n",
              " '/content/drive/My Drive/!landsat8-prep/pixel_rowcol_mapping/ls8_pixel_rowcol_map_129053.tif',\n",
              " '/content/drive/My Drive/!landsat8-prep/pixel_rowcol_mapping/ls8_pixel_rowcol_map_129054.tif',\n",
              " '/content/drive/My Drive/!landsat8-prep/pixel_rowcol_mapping/ls8_pixel_rowcol_map_129055.tif',\n",
              " '/content/drive/My Drive/!landsat8-prep/pixel_rowcol_mapping/ls8_pixel_rowcol_map_129056.tif',\n",
              " '/content/drive/My Drive/!landsat8-prep/pixel_rowcol_mapping/ls8_pixel_rowcol_map_130046.tif',\n",
              " '/content/drive/My Drive/!landsat8-prep/pixel_rowcol_mapping/ls8_pixel_rowcol_map_130047.tif',\n",
              " '/content/drive/My Drive/!landsat8-prep/pixel_rowcol_mapping/ls8_pixel_rowcol_map_130048.tif',\n",
              " '/content/drive/My Drive/!landsat8-prep/pixel_rowcol_mapping/ls8_pixel_rowcol_map_130049.tif',\n",
              " '/content/drive/My Drive/!landsat8-prep/pixel_rowcol_mapping/ls8_pixel_rowcol_map_130050.tif',\n",
              " '/content/drive/My Drive/!landsat8-prep/pixel_rowcol_mapping/ls8_pixel_rowcol_map_130051.tif',\n",
              " '/content/drive/My Drive/!landsat8-prep/pixel_rowcol_mapping/ls8_pixel_rowcol_map_130052.tif',\n",
              " '/content/drive/My Drive/!landsat8-prep/pixel_rowcol_mapping/ls8_pixel_rowcol_map_130053.tif',\n",
              " '/content/drive/My Drive/!landsat8-prep/pixel_rowcol_mapping/ls8_pixel_rowcol_map_130054.tif',\n",
              " '/content/drive/My Drive/!landsat8-prep/pixel_rowcol_mapping/ls8_pixel_rowcol_map_130055.tif',\n",
              " '/content/drive/My Drive/!landsat8-prep/pixel_rowcol_mapping/ls8_pixel_rowcol_map_131046.tif',\n",
              " '/content/drive/My Drive/!landsat8-prep/pixel_rowcol_mapping/ls8_pixel_rowcol_map_131047.tif',\n",
              " '/content/drive/My Drive/!landsat8-prep/pixel_rowcol_mapping/ls8_pixel_rowcol_map_131048.tif',\n",
              " '/content/drive/My Drive/!landsat8-prep/pixel_rowcol_mapping/ls8_pixel_rowcol_map_131049.tif',\n",
              " '/content/drive/My Drive/!landsat8-prep/pixel_rowcol_mapping/ls8_pixel_rowcol_map_131050.tif',\n",
              " '/content/drive/My Drive/!landsat8-prep/pixel_rowcol_mapping/ls8_pixel_rowcol_map_132046.tif',\n",
              " '/content/drive/My Drive/!landsat8-prep/pixel_rowcol_mapping/ls8_pixel_rowcol_map_132047.tif',\n",
              " '/content/drive/My Drive/!landsat8-prep/pixel_rowcol_mapping/ls8_pixel_rowcol_map_132048.tif']"
            ]
          },
          "metadata": {
            "tags": []
          },
          "execution_count": 10
        }
      ]
    },
    {
      "cell_type": "markdown",
      "metadata": {
        "id": "hDwUZ-6kYLFz",
        "colab_type": "text"
      },
      "source": [
        "# Intersect pixel rowcol with plot polygon"
      ]
    },
    {
      "cell_type": "code",
      "metadata": {
        "id": "CTUObdY_lP6c",
        "colab_type": "code",
        "outputId": "f0d1f9ed-3c6a-4c4f-a531-49d378a24830",
        "colab": {
          "base_uri": "https://localhost:8080/",
          "height": 1000,
          "referenced_widgets": [
            "1d5d2b1a2d1b458cac947badbdbf8756",
            "16f1d4013be44baa8ef98388cfe1e918",
            "4bd7d35e872048e895fa2e05888f174c",
            "fd022f92a2514540bf02975b68ab0986",
            "d27ee6f5230f425ba725723caa94cbc8",
            "4b2260a5172b492da2142883264e619b",
            "19f07a64c91b409eb398bff44def6507",
            "24497e98c18c4ac8842a2d8dc7d76ff2"
          ]
        }
      },
      "source": [
        "\n",
        "\n",
        "for polygon_prov_file in tqdm_notebook(list_polygon_prov_files):\n",
        "    prov_cd = int(polygon_prov_file.split('/')[-1].split('.')[0][-2:])\n",
        "    print(f'prov_cd : {prov_cd} start')\n",
        "    out_parquet_path = os.path.join(pixel_rowcol_map_path, f'df_pixel_rowcol_map_p{prov_cd}.parquet')\n",
        "\n",
        "    #skip if file exists\n",
        "    if os.path.exists(out_parquet_path):        \n",
        "        continue\n",
        "\n",
        "    list_df_intersect = []\n",
        "    gdf = read_pickle(polygon_prov_file)\n",
        "\n",
        "    for in_rst in list_pixel_rowcol_map_files:  \n",
        "        scene_id = int(in_rst.split('/')[-1].split('.')[0][-6:])\n",
        "\n",
        "        with rasterio.open(in_rst) as rst:\n",
        "            rst_crs_str = rst.crs.to_string()\n",
        "            \n",
        "            #reproject polygon to same as raster\n",
        "            gdf_curr = gdf.to_crs(rasterio.crs.CRS.from_string(rst_crs_str))\n",
        "\n",
        "            assert(rst_crs_str == gdf_curr.crs.to_string())\n",
        "\n",
        "            try:\n",
        "                #intersect polygon and raster\n",
        "                intersect_image, intersect_transform = mask(rst, gdf_curr['geometry'], crop=True, all_touched=True)\n",
        "                print(f'Found {np.where(intersect_image[1] > 0, 1, 0).sum()} pixels in {scene_id}') \n",
        "\n",
        "                #get row & col from intersection result                   \n",
        "                rows = intersect_image[0].flatten()\n",
        "                rows = np.where(rows > 1, rows, np.nan)\n",
        "                cols = intersect_image[1].flatten()\n",
        "                cols = np.where(cols > 1, cols, np.nan)\n",
        "\n",
        "                #create temp dataframe to collect row & col\n",
        "                df_curr = pd.DataFrame(zip(rows, cols), columns=['row', 'col']).dropna()\n",
        "                df_curr['row'] = df_curr['row'].astype(np.int16)\n",
        "                df_curr['col'] = df_curr['col'].astype(np.int16)\n",
        "                df_curr['prov_cd'] = prov_cd\n",
        "                df_curr['scene_id'] = scene_id\n",
        "                df_curr = df_curr.drop_duplicates()\n",
        "                \n",
        "                #append to list\n",
        "                list_df_intersect.append(df_curr)\n",
        "            except:\n",
        "                pass\n",
        "                #print(f'Not found in {in_rst}')\n",
        "\n",
        "    df_pixel_map = pd.concat(list_df_intersect)\n",
        "    if os.path.exists(out_parquet_path):        \n",
        "        continue\n",
        "\n",
        "    df_pixel_map.to_parquet(out_parquet_path)\n",
        "    print(f'prov_cd : {prov_cd} done.')\n",
        "\n",
        "    print()    "
      ],
      "execution_count": 0,
      "outputs": [
        {
          "output_type": "display_data",
          "data": {
            "application/vnd.jupyter.widget-view+json": {
              "model_id": "1d5d2b1a2d1b458cac947badbdbf8756",
              "version_minor": 0,
              "version_major": 2
            },
            "text/plain": [
              "HBox(children=(IntProgress(value=0, max=77), HTML(value='')))"
            ]
          },
          "metadata": {
            "tags": []
          }
        },
        {
          "output_type": "stream",
          "text": [
            "prov_cd : 70 start\n"
          ],
          "name": "stdout"
        },
        {
          "output_type": "stream",
          "text": [
            "/usr/local/lib/python3.6/dist-packages/pyproj/crs/crs.py:53: FutureWarning: '+init=<authority>:<code>' syntax is deprecated. '<authority>:<code>' is the preferred initialization method. When making the change, be mindful of axis order changes: https://pyproj4.github.io/pyproj/stable/gotchas.html#axis-order-changes-in-proj-6\n",
            "  return _prepare_from_string(\" \".join(pjargs))\n"
          ],
          "name": "stderr"
        },
        {
          "output_type": "stream",
          "text": [
            "Found 272102 pixels in 129050\n",
            "Found 368038 pixels in 129051\n",
            "Found 318254 pixels in 130050\n",
            "Found 368070 pixels in 130051\n",
            "prov_cd : 70 done.\n",
            "\n",
            "prov_cd : 43 start\n"
          ],
          "name": "stdout"
        },
        {
          "output_type": "stream",
          "text": [
            "/usr/local/lib/python3.6/dist-packages/pyproj/crs/crs.py:53: FutureWarning: '+init=<authority>:<code>' syntax is deprecated. '<authority>:<code>' is the preferred initialization method. When making the change, be mindful of axis order changes: https://pyproj4.github.io/pyproj/stable/gotchas.html#axis-order-changes-in-proj-6\n",
            "  return _prepare_from_string(\" \".join(pjargs))\n"
          ],
          "name": "stderr"
        },
        {
          "output_type": "stream",
          "text": [
            "Found 1687 pixels in 127048\n",
            "Found 763900 pixels in 128047\n",
            "Found 846886 pixels in 128048\n",
            "Found 270683 pixels in 129047\n",
            "Found 81982 pixels in 129048\n",
            "prov_cd : 43 done.\n",
            "\n",
            "prov_cd : 13 start\n"
          ],
          "name": "stdout"
        },
        {
          "output_type": "stream",
          "text": [
            "/usr/local/lib/python3.6/dist-packages/pyproj/crs/crs.py:53: FutureWarning: '+init=<authority>:<code>' syntax is deprecated. '<authority>:<code>' is the preferred initialization method. When making the change, be mindful of axis order changes: https://pyproj4.github.io/pyproj/stable/gotchas.html#axis-order-changes-in-proj-6\n",
            "  return _prepare_from_string(\" \".join(pjargs))\n"
          ],
          "name": "stderr"
        },
        {
          "output_type": "stream",
          "text": [
            "Found 0 pixels in 128051\n",
            "Found 409310 pixels in 129050\n",
            "Found 186784 pixels in 129051\n",
            "Found 153299 pixels in 130050\n",
            "Found 0 pixels in 130051\n",
            "prov_cd : 13 done.\n",
            "\n",
            "prov_cd : 82 start\n"
          ],
          "name": "stdout"
        },
        {
          "output_type": "stream",
          "text": [
            "/usr/local/lib/python3.6/dist-packages/pyproj/crs/crs.py:53: FutureWarning: '+init=<authority>:<code>' syntax is deprecated. '<authority>:<code>' is the preferred initialization method. When making the change, be mindful of axis order changes: https://pyproj4.github.io/pyproj/stable/gotchas.html#axis-order-changes-in-proj-6\n",
            "  return _prepare_from_string(\" \".join(pjargs))\n"
          ],
          "name": "stderr"
        },
        {
          "output_type": "stream",
          "text": [
            "Found 1352 pixels in 129054\n",
            "Found 1325 pixels in 129055\n",
            "Found 1352 pixels in 130054\n",
            "Found 1325 pixels in 130055\n",
            "prov_cd : 82 done.\n",
            "\n",
            "prov_cd : 39 start\n"
          ],
          "name": "stdout"
        },
        {
          "output_type": "stream",
          "text": [
            "/usr/local/lib/python3.6/dist-packages/pyproj/crs/crs.py:53: FutureWarning: '+init=<authority>:<code>' syntax is deprecated. '<authority>:<code>' is the preferred initialization method. When making the change, be mindful of axis order changes: https://pyproj4.github.io/pyproj/stable/gotchas.html#axis-order-changes-in-proj-6\n",
            "  return _prepare_from_string(\" \".join(pjargs))\n"
          ],
          "name": "stderr"
        },
        {
          "output_type": "stream",
          "text": [
            "Found 980192 pixels in 128048\n",
            "Found 237774 pixels in 128049\n",
            "Found 838474 pixels in 129048\n",
            "Found 20280 pixels in 129049\n",
            "prov_cd : 39 done.\n",
            "\n",
            "prov_cd : 93 start\n"
          ],
          "name": "stdout"
        },
        {
          "output_type": "stream",
          "text": [
            "/usr/local/lib/python3.6/dist-packages/pyproj/crs/crs.py:53: FutureWarning: '+init=<authority>:<code>' syntax is deprecated. '<authority>:<code>' is the preferred initialization method. When making the change, be mindful of axis order changes: https://pyproj4.github.io/pyproj/stable/gotchas.html#axis-order-changes-in-proj-6\n",
            "  return _prepare_from_string(\" \".join(pjargs))\n"
          ],
          "name": "stderr"
        },
        {
          "output_type": "stream",
          "text": [
            "Found 72037 pixels in 128054\n",
            "Found 190851 pixels in 128055\n",
            "Found 92876 pixels in 129054\n",
            "Found 169691 pixels in 129055\n",
            "prov_cd : 93 done.\n",
            "\n",
            "prov_cd : 37 start\n"
          ],
          "name": "stdout"
        },
        {
          "output_type": "stream",
          "text": [
            "/usr/local/lib/python3.6/dist-packages/pyproj/crs/crs.py:53: FutureWarning: '+init=<authority>:<code>' syntax is deprecated. '<authority>:<code>' is the preferred initialization method. When making the change, be mindful of axis order changes: https://pyproj4.github.io/pyproj/stable/gotchas.html#axis-order-changes-in-proj-6\n",
            "  return _prepare_from_string(\" \".join(pjargs))\n"
          ],
          "name": "stderr"
        },
        {
          "output_type": "stream",
          "text": [
            "Found 1418700 pixels in 126049\n",
            "Found 1418700 pixels in 127049\n",
            "prov_cd : 37 done.\n",
            "\n",
            "prov_cd : 16 start\n"
          ],
          "name": "stdout"
        },
        {
          "output_type": "stream",
          "text": [
            "/usr/local/lib/python3.6/dist-packages/pyproj/crs/crs.py:53: FutureWarning: '+init=<authority>:<code>' syntax is deprecated. '<authority>:<code>' is the preferred initialization method. When making the change, be mindful of axis order changes: https://pyproj4.github.io/pyproj/stable/gotchas.html#axis-order-changes-in-proj-6\n",
            "  return _prepare_from_string(\" \".join(pjargs))\n"
          ],
          "name": "stderr"
        },
        {
          "output_type": "stream",
          "text": [
            "Found 16764 pixels in 128050\n",
            "Found 678822 pixels in 129049\n",
            "Found 863251 pixels in 129050\n",
            "Found 641850 pixels in 130049\n",
            "Found 549906 pixels in 130050\n",
            "prov_cd : 16 done.\n",
            "\n",
            "prov_cd : 67 start\n"
          ],
          "name": "stdout"
        },
        {
          "output_type": "stream",
          "text": [
            "/usr/local/lib/python3.6/dist-packages/pyproj/crs/crs.py:53: FutureWarning: '+init=<authority>:<code>' syntax is deprecated. '<authority>:<code>' is the preferred initialization method. When making the change, be mindful of axis order changes: https://pyproj4.github.io/pyproj/stable/gotchas.html#axis-order-changes-in-proj-6\n",
            "  return _prepare_from_string(\" \".join(pjargs))\n"
          ],
          "name": "stderr"
        },
        {
          "output_type": "stream",
          "text": [
            "Found 3363 pixels in 128049\n",
            "Found 13385 pixels in 128050\n",
            "Found 638380 pixels in 129048\n",
            "Found 1472790 pixels in 129049\n",
            "Found 72647 pixels in 129050\n",
            "Found 620843 pixels in 130048\n",
            "Found 260788 pixels in 130049\n",
            "Found 0 pixels in 130050\n",
            "prov_cd : 67 done.\n",
            "\n",
            "prov_cd : 90 start\n",
            "prov_cd : 91 start\n",
            "prov_cd : 36 start\n"
          ],
          "name": "stdout"
        },
        {
          "output_type": "stream",
          "text": [
            "/usr/local/lib/python3.6/dist-packages/pyproj/crs/crs.py:53: FutureWarning: '+init=<authority>:<code>' syntax is deprecated. '<authority>:<code>' is the preferred initialization method. When making the change, be mindful of axis order changes: https://pyproj4.github.io/pyproj/stable/gotchas.html#axis-order-changes-in-proj-6\n",
            "  return _prepare_from_string(\" \".join(pjargs))\n"
          ],
          "name": "stderr"
        },
        {
          "output_type": "stream",
          "text": [
            "Found 438477 pixels in 128048\n",
            "Found 2172004 pixels in 128049\n",
            "Found 112640 pixels in 128050\n",
            "Found 415013 pixels in 129048\n",
            "Found 1555974 pixels in 129049\n",
            "Found 62551 pixels in 129050\n"
          ],
          "name": "stdout"
        }
      ]
    },
    {
      "cell_type": "code",
      "metadata": {
        "id": "nPKrJr3tYeYy",
        "colab_type": "code",
        "colab": {}
      },
      "source": [
        ""
      ],
      "execution_count": 0,
      "outputs": []
    }
  ]
}