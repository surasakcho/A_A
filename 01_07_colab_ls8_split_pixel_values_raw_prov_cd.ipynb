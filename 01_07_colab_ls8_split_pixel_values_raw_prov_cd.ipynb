{
  "nbformat": 4,
  "nbformat_minor": 0,
  "metadata": {
    "colab": {
      "name": "01-07-colab-ls8-split-pixel-values-raw-prov_cd.ipynb",
      "provenance": [],
      "collapsed_sections": [],
      "toc_visible": true,
      "machine_shape": "hm",
      "authorship_tag": "ABX9TyMabBkG4o/4WneTyF+YMsau",
      "include_colab_link": true
    },
    "kernelspec": {
      "name": "python3",
      "display_name": "Python 3"
    },
    "widgets": {
      "application/vnd.jupyter.widget-state+json": {
        "ce2be473b5504896b2cad1156f141cd8": {
          "model_module": "@jupyter-widgets/controls",
          "model_name": "HBoxModel",
          "state": {
            "_view_name": "HBoxView",
            "_dom_classes": [],
            "_model_name": "HBoxModel",
            "_view_module": "@jupyter-widgets/controls",
            "_model_module_version": "1.5.0",
            "_view_count": null,
            "_view_module_version": "1.5.0",
            "box_style": "",
            "layout": "IPY_MODEL_410a2877128b48e997a4c794a9087bc1",
            "_model_module": "@jupyter-widgets/controls",
            "children": [
              "IPY_MODEL_782f210b4e194c2484615a54c98388b5",
              "IPY_MODEL_3576ef2745bd45cebd1884d687a5f201"
            ]
          }
        },
        "410a2877128b48e997a4c794a9087bc1": {
          "model_module": "@jupyter-widgets/base",
          "model_name": "LayoutModel",
          "state": {
            "_view_name": "LayoutView",
            "grid_template_rows": null,
            "right": null,
            "justify_content": null,
            "_view_module": "@jupyter-widgets/base",
            "overflow": null,
            "_model_module_version": "1.2.0",
            "_view_count": null,
            "flex_flow": null,
            "width": null,
            "min_width": null,
            "border": null,
            "align_items": null,
            "bottom": null,
            "_model_module": "@jupyter-widgets/base",
            "top": null,
            "grid_column": null,
            "overflow_y": null,
            "overflow_x": null,
            "grid_auto_flow": null,
            "grid_area": null,
            "grid_template_columns": null,
            "flex": null,
            "_model_name": "LayoutModel",
            "justify_items": null,
            "grid_row": null,
            "max_height": null,
            "align_content": null,
            "visibility": null,
            "align_self": null,
            "height": null,
            "min_height": null,
            "padding": null,
            "grid_auto_rows": null,
            "grid_gap": null,
            "max_width": null,
            "order": null,
            "_view_module_version": "1.2.0",
            "grid_template_areas": null,
            "object_position": null,
            "object_fit": null,
            "grid_auto_columns": null,
            "margin": null,
            "display": null,
            "left": null
          }
        },
        "782f210b4e194c2484615a54c98388b5": {
          "model_module": "@jupyter-widgets/controls",
          "model_name": "IntProgressModel",
          "state": {
            "_view_name": "ProgressView",
            "style": "IPY_MODEL_c3dc4cb014714a38a701087ae18a9fb9",
            "_dom_classes": [],
            "description": "",
            "_model_name": "IntProgressModel",
            "bar_style": "",
            "max": 77,
            "_view_module": "@jupyter-widgets/controls",
            "_model_module_version": "1.5.0",
            "value": 0,
            "_view_count": null,
            "_view_module_version": "1.5.0",
            "orientation": "horizontal",
            "min": 0,
            "description_tooltip": null,
            "_model_module": "@jupyter-widgets/controls",
            "layout": "IPY_MODEL_939e5e19c965499cb8a7afeb3e2b37ac"
          }
        },
        "3576ef2745bd45cebd1884d687a5f201": {
          "model_module": "@jupyter-widgets/controls",
          "model_name": "HTMLModel",
          "state": {
            "_view_name": "HTMLView",
            "style": "IPY_MODEL_121403b92fa94b6fb5d7f5d0c063fb9b",
            "_dom_classes": [],
            "description": "",
            "_model_name": "HTMLModel",
            "placeholder": "​",
            "_view_module": "@jupyter-widgets/controls",
            "_model_module_version": "1.5.0",
            "value": "  0% 0/77 [00:00&lt;?, ?it/s]",
            "_view_count": null,
            "_view_module_version": "1.5.0",
            "description_tooltip": null,
            "_model_module": "@jupyter-widgets/controls",
            "layout": "IPY_MODEL_8660d2c2397d42f5a0e26b6ea2337f23"
          }
        },
        "c3dc4cb014714a38a701087ae18a9fb9": {
          "model_module": "@jupyter-widgets/controls",
          "model_name": "ProgressStyleModel",
          "state": {
            "_view_name": "StyleView",
            "_model_name": "ProgressStyleModel",
            "description_width": "",
            "_view_module": "@jupyter-widgets/base",
            "_model_module_version": "1.5.0",
            "_view_count": null,
            "_view_module_version": "1.2.0",
            "bar_color": null,
            "_model_module": "@jupyter-widgets/controls"
          }
        },
        "939e5e19c965499cb8a7afeb3e2b37ac": {
          "model_module": "@jupyter-widgets/base",
          "model_name": "LayoutModel",
          "state": {
            "_view_name": "LayoutView",
            "grid_template_rows": null,
            "right": null,
            "justify_content": null,
            "_view_module": "@jupyter-widgets/base",
            "overflow": null,
            "_model_module_version": "1.2.0",
            "_view_count": null,
            "flex_flow": null,
            "width": null,
            "min_width": null,
            "border": null,
            "align_items": null,
            "bottom": null,
            "_model_module": "@jupyter-widgets/base",
            "top": null,
            "grid_column": null,
            "overflow_y": null,
            "overflow_x": null,
            "grid_auto_flow": null,
            "grid_area": null,
            "grid_template_columns": null,
            "flex": null,
            "_model_name": "LayoutModel",
            "justify_items": null,
            "grid_row": null,
            "max_height": null,
            "align_content": null,
            "visibility": null,
            "align_self": null,
            "height": null,
            "min_height": null,
            "padding": null,
            "grid_auto_rows": null,
            "grid_gap": null,
            "max_width": null,
            "order": null,
            "_view_module_version": "1.2.0",
            "grid_template_areas": null,
            "object_position": null,
            "object_fit": null,
            "grid_auto_columns": null,
            "margin": null,
            "display": null,
            "left": null
          }
        },
        "121403b92fa94b6fb5d7f5d0c063fb9b": {
          "model_module": "@jupyter-widgets/controls",
          "model_name": "DescriptionStyleModel",
          "state": {
            "_view_name": "StyleView",
            "_model_name": "DescriptionStyleModel",
            "description_width": "",
            "_view_module": "@jupyter-widgets/base",
            "_model_module_version": "1.5.0",
            "_view_count": null,
            "_view_module_version": "1.2.0",
            "_model_module": "@jupyter-widgets/controls"
          }
        },
        "8660d2c2397d42f5a0e26b6ea2337f23": {
          "model_module": "@jupyter-widgets/base",
          "model_name": "LayoutModel",
          "state": {
            "_view_name": "LayoutView",
            "grid_template_rows": null,
            "right": null,
            "justify_content": null,
            "_view_module": "@jupyter-widgets/base",
            "overflow": null,
            "_model_module_version": "1.2.0",
            "_view_count": null,
            "flex_flow": null,
            "width": null,
            "min_width": null,
            "border": null,
            "align_items": null,
            "bottom": null,
            "_model_module": "@jupyter-widgets/base",
            "top": null,
            "grid_column": null,
            "overflow_y": null,
            "overflow_x": null,
            "grid_auto_flow": null,
            "grid_area": null,
            "grid_template_columns": null,
            "flex": null,
            "_model_name": "LayoutModel",
            "justify_items": null,
            "grid_row": null,
            "max_height": null,
            "align_content": null,
            "visibility": null,
            "align_self": null,
            "height": null,
            "min_height": null,
            "padding": null,
            "grid_auto_rows": null,
            "grid_gap": null,
            "max_width": null,
            "order": null,
            "_view_module_version": "1.2.0",
            "grid_template_areas": null,
            "object_position": null,
            "object_fit": null,
            "grid_auto_columns": null,
            "margin": null,
            "display": null,
            "left": null
          }
        }
      }
    }
  },
  "cells": [
    {
      "cell_type": "markdown",
      "metadata": {
        "id": "view-in-github",
        "colab_type": "text"
      },
      "source": [
        "<a href=\"https://colab.research.google.com/github/surasakcho/A_A/blob/master/01_07_colab_ls8_split_pixel_values_raw_prov_cd.ipynb\" target=\"_parent\"><img src=\"https://colab.research.google.com/assets/colab-badge.svg\" alt=\"Open In Colab\"/></a>"
      ]
    },
    {
      "cell_type": "markdown",
      "metadata": {
        "id": "3B53ACKipiOP",
        "colab_type": "text"
      },
      "source": [
        "# Install libraries & Mount google drive"
      ]
    },
    {
      "cell_type": "code",
      "metadata": {
        "colab_type": "code",
        "outputId": "276befa7-0223-4cca-fcde-586fd5d5d3ae",
        "id": "bxqYjWtDJb4b",
        "colab": {
          "base_uri": "https://localhost:8080/",
          "height": 34
        }
      },
      "source": [
        "from google.colab import drive\n",
        "drive.mount('/content/drive')"
      ],
      "execution_count": 1,
      "outputs": [
        {
          "output_type": "stream",
          "text": [
            "Drive already mounted at /content/drive; to attempt to forcibly remount, call drive.mount(\"/content/drive\", force_remount=True).\n"
          ],
          "name": "stdout"
        }
      ]
    },
    {
      "cell_type": "code",
      "metadata": {
        "id": "w61nJbGYpHb3",
        "colab_type": "code",
        "outputId": "4b84d36e-9506-44fc-970d-ad57eb8d30ba",
        "colab": {
          "base_uri": "https://localhost:8080/",
          "height": 425
        }
      },
      "source": [
        "!pip install rasterio\n",
        "!pip install geopandas\n"
      ],
      "execution_count": 2,
      "outputs": [
        {
          "output_type": "stream",
          "text": [
            "Requirement already satisfied: rasterio in /usr/local/lib/python3.6/dist-packages (1.1.3)\n",
            "Requirement already satisfied: cligj>=0.5 in /usr/local/lib/python3.6/dist-packages (from rasterio) (0.5.0)\n",
            "Requirement already satisfied: numpy in /usr/local/lib/python3.6/dist-packages (from rasterio) (1.18.1)\n",
            "Requirement already satisfied: affine in /usr/local/lib/python3.6/dist-packages (from rasterio) (2.3.0)\n",
            "Requirement already satisfied: attrs in /usr/local/lib/python3.6/dist-packages (from rasterio) (19.3.0)\n",
            "Requirement already satisfied: click<8,>=4.0 in /usr/local/lib/python3.6/dist-packages (from rasterio) (7.1.1)\n",
            "Requirement already satisfied: snuggs>=1.4.1 in /usr/local/lib/python3.6/dist-packages (from rasterio) (1.4.7)\n",
            "Requirement already satisfied: click-plugins in /usr/local/lib/python3.6/dist-packages (from rasterio) (1.1.1)\n",
            "Requirement already satisfied: pyparsing>=2.1.6 in /usr/local/lib/python3.6/dist-packages (from snuggs>=1.4.1->rasterio) (2.4.6)\n",
            "Requirement already satisfied: geopandas in /usr/local/lib/python3.6/dist-packages (0.7.0)\n",
            "Requirement already satisfied: pyproj>=2.2.0 in /usr/local/lib/python3.6/dist-packages (from geopandas) (2.6.0)\n",
            "Requirement already satisfied: shapely in /usr/local/lib/python3.6/dist-packages (from geopandas) (1.7.0)\n",
            "Requirement already satisfied: pandas>=0.23.0 in /usr/local/lib/python3.6/dist-packages (from geopandas) (0.25.3)\n",
            "Requirement already satisfied: fiona in /usr/local/lib/python3.6/dist-packages (from geopandas) (1.8.13.post1)\n",
            "Requirement already satisfied: pytz>=2017.2 in /usr/local/lib/python3.6/dist-packages (from pandas>=0.23.0->geopandas) (2018.9)\n",
            "Requirement already satisfied: python-dateutil>=2.6.1 in /usr/local/lib/python3.6/dist-packages (from pandas>=0.23.0->geopandas) (2.8.1)\n",
            "Requirement already satisfied: numpy>=1.13.3 in /usr/local/lib/python3.6/dist-packages (from pandas>=0.23.0->geopandas) (1.18.1)\n",
            "Requirement already satisfied: munch in /usr/local/lib/python3.6/dist-packages (from fiona->geopandas) (2.5.0)\n",
            "Requirement already satisfied: click<8,>=4.0 in /usr/local/lib/python3.6/dist-packages (from fiona->geopandas) (7.1.1)\n",
            "Requirement already satisfied: cligj>=0.5 in /usr/local/lib/python3.6/dist-packages (from fiona->geopandas) (0.5.0)\n",
            "Requirement already satisfied: attrs>=17 in /usr/local/lib/python3.6/dist-packages (from fiona->geopandas) (19.3.0)\n",
            "Requirement already satisfied: six>=1.7 in /usr/local/lib/python3.6/dist-packages (from fiona->geopandas) (1.12.0)\n",
            "Requirement already satisfied: click-plugins>=1.0 in /usr/local/lib/python3.6/dist-packages (from fiona->geopandas) (1.1.1)\n"
          ],
          "name": "stdout"
        }
      ]
    },
    {
      "cell_type": "code",
      "metadata": {
        "id": "J1X27rahpoWD",
        "colab_type": "code",
        "colab": {}
      },
      "source": [
        "import numpy as np\n",
        "import pandas as pd\n",
        "import os, shutil\n",
        "from glob import glob\n",
        "import re\n",
        "import datetime\n",
        "from datetime import datetime\n",
        "import random\n",
        "from tqdm import tqdm_notebook\n",
        "import pickle\n",
        "import matplotlib.pyplot as plt\n",
        "import geopandas as gpd\n",
        "from pyproj import CRS\n",
        "import rasterio\n",
        "from rasterio import plot\n",
        "from rasterio.transform import from_origin\n",
        "from rasterio.warp import reproject, Resampling\n",
        "from rasterio.mask import mask\n",
        "from shapely.geometry import Polygon, mapping\n",
        "from datetime import datetime, timedelta\n",
        "%matplotlib inline"
      ],
      "execution_count": 0,
      "outputs": []
    },
    {
      "cell_type": "markdown",
      "metadata": {
        "id": "BJYApbR-yD3L",
        "colab_type": "text"
      },
      "source": [
        "# Define functions"
      ]
    },
    {
      "cell_type": "code",
      "metadata": {
        "id": "Iqc40ehZyDHD",
        "colab_type": "code",
        "colab": {}
      },
      "source": [
        "\n",
        "def list_files_re(rootpath, filename_re=None, folder_re=None ):\n",
        "    '''\n",
        "    rootpath : root path to lookup files\n",
        "    filename_re : regular expression to search for filename\n",
        "    folder_re : regular expression to search for folder\n",
        "\n",
        "    return : a list of filepaths\n",
        "    '''\n",
        "\n",
        "\n",
        "    list_files = []\n",
        "    for folder, _, files in os.walk(rootpath):\n",
        "        for file in files:     \n",
        "            if filename_re == None:\n",
        "                filename_re = '.*'\n",
        "            if folder_re == None:\n",
        "                folder_re = '.*'\n",
        "                \n",
        "            if ((re.search(filename_re, file) != None) & (re.search(folder_re, folder) != None)):\n",
        "                list_files.append(os.path.join(folder, file))\n",
        "        \n",
        "    return list_files    \n",
        "        \n",
        "        \n",
        "    "
      ],
      "execution_count": 0,
      "outputs": []
    },
    {
      "cell_type": "code",
      "metadata": {
        "id": "XBnTVHzjpgIy",
        "colab_type": "code",
        "colab": {}
      },
      "source": [
        "\n",
        "def read_pickle(in_pickle_path):\n",
        "    '''\n",
        "    Read a pickle file.\n",
        "\n",
        "    Parameters\n",
        "    ----------------------------------\n",
        "    in_pickle_path : path of pickle to be read\n",
        "\n",
        "    Return\n",
        "    ----------------------------------\n",
        "    An object / variable of read pickle file\n",
        "    '''\n",
        "\n",
        "    pkl_file = open(in_pickle_path, 'rb')\n",
        "    data = pickle.load(pkl_file)\n",
        "    pkl_file.close()\n",
        "\n",
        "    return data"
      ],
      "execution_count": 0,
      "outputs": []
    },
    {
      "cell_type": "markdown",
      "metadata": {
        "id": "vLjKCZ0zueTn",
        "colab_type": "text"
      },
      "source": [
        "# Define paths & parameters"
      ]
    },
    {
      "cell_type": "code",
      "metadata": {
        "id": "csv3SLoqpr17",
        "colab_type": "code",
        "colab": {}
      },
      "source": [
        "CYCLE_DAYS = 16\n",
        "\n",
        "\n",
        "my_drive_path = \"/content/drive/My Drive/\"\n",
        "\n",
        "landsat_folder = os.path.join(my_drive_path, '!landsat8-prep')\n",
        "\n",
        "pixel_rowcol_map_province_folder = os.path.join(landsat_folder, 'pixel_rowcol_map_province')\n",
        "pixel_rowcol_map_tambon_folder = os.path.join(landsat_folder, 'pixel_rowcol_map_tambon')\n",
        "\n",
        "pixel_values_raw_folder = os.path.join(landsat_folder, 'pixel_values_raw')\n",
        "pixel_values_raw_prov_folder = os.path.join(landsat_folder, 'pixel_values_raw_prov')\n",
        "os.makedirs(pixel_values_raw_prov_folder, exist_ok=True)"
      ],
      "execution_count": 0,
      "outputs": []
    },
    {
      "cell_type": "markdown",
      "metadata": {
        "id": "xKO_iX5UDc04",
        "colab_type": "text"
      },
      "source": [
        "# Load data"
      ]
    },
    {
      "cell_type": "code",
      "metadata": {
        "id": "TpXOKdpsy_0u",
        "colab_type": "code",
        "colab": {}
      },
      "source": [
        "df_province_cd = pd.read_csv(os.path.join(landsat_folder, 'DOAE_PROVINCE.csv'))\n",
        "\n",
        "df_province_cd = df_province_cd.sample(frac=1.0)\n"
      ],
      "execution_count": 0,
      "outputs": []
    },
    {
      "cell_type": "markdown",
      "metadata": {
        "id": "hDwUZ-6kYLFz",
        "colab_type": "text"
      },
      "source": [
        "# Split pixel values by prov_cd"
      ]
    },
    {
      "cell_type": "code",
      "metadata": {
        "id": "FIZ4D3_d0q9v",
        "colab_type": "code",
        "colab": {
          "base_uri": "https://localhost:8080/",
          "height": 137,
          "referenced_widgets": [
            "ce2be473b5504896b2cad1156f141cd8",
            "410a2877128b48e997a4c794a9087bc1",
            "782f210b4e194c2484615a54c98388b5",
            "3576ef2745bd45cebd1884d687a5f201",
            "c3dc4cb014714a38a701087ae18a9fb9",
            "939e5e19c965499cb8a7afeb3e2b37ac",
            "121403b92fa94b6fb5d7f5d0c063fb9b",
            "8660d2c2397d42f5a0e26b6ea2337f23"
          ]
        },
        "outputId": "e299c90c-1adb-4d28-a946-5ce7d4a64853"
      },
      "source": [
        "for prov_cd in tqdm_notebook(df_province_cd['PROVINCE_CODE']):    \n",
        "    \n",
        "    print(f'Processing : p{prov_cd}')\n",
        "    \n",
        "    #get list of province row col map of prov_cd\n",
        "    list_pixel_rowcol_map_province_path = list_files_re(pixel_rowcol_map_province_folder, f'df_pixel_map_p{prov_cd}_\\d*.parquet')\n",
        "    #shuffle for multi-session processing\n",
        "    random.shuffle(list_pixel_rowcol_map_province_path)\n",
        "    \n",
        "    for pixel_rowcol_map_province_path in list_pixel_rowcol_map_province_path:\n",
        "        #iterate each scene in prov_cd\n",
        "        scene_id = pixel_rowcol_map_province_path.split('.')[0][-6:]\n",
        "\n",
        "\n",
        "        out_path = os.path.join(pixel_values_raw_prov_folder, f'df_pixel_values_raw_p{prov_cd}_{scene_id}.parquet')  \n",
        "        #check whether file already exists\n",
        "        if os.path.exists(out_path):\n",
        "            continue\n",
        "\n",
        "        print(f'Loading scene_id : {scene_id}')\n",
        "        df_pixel_values_prov_scene = pd.read_parquet(pixel_rowcol_map_province_path).set_index(['scene_id', 'row', 'col'])\n",
        "\n",
        "\n",
        "        \n",
        "        \n",
        "\n",
        "        #Merge all years into one dataframe\n",
        "        list_pixel_values_raw_path = list_files_re(pixel_values_raw_folder, f'df_pixel_values_{scene_id}_(2015|2016|2017|2018|2019).parquet')\n",
        "        \n",
        "        continue_next_scene = False\n",
        "        \n",
        "        for pixel_values_raw_path in list_pixel_values_raw_path:            \n",
        "            #iterate each year\n",
        "            year = pixel_values_raw_path.split('.')[0][-4:]\n",
        "\n",
        "            #If current scene is created by other session, skip it.\n",
        "            if os.path.exists(out_path):\n",
        "                continue_next_scene = True\n",
        "                break\n",
        "            else:    \n",
        "                print(f'Loading year : {year}')    \n",
        "\n",
        "            #join another year to existing df\n",
        "            for n in range(10):\n",
        "                try:\n",
        "                    df_tmp = pd.read_parquet(pixel_values_raw_path).set_index(['scene_id', 'row', 'col'])\n",
        "                    break\n",
        "                except:\n",
        "                    print(f'Read failed (attempt-{n+1}) : {pixel_values_raw_path}')                    \n",
        "                \n",
        "\n",
        "            df_tmp['zeros'] = np.where(df_tmp.values == 0, 1, 0).sum(axis=1)\n",
        "            nbr_columns = len(df_tmp.columns)\n",
        "            df_tmp['pct_zeros'] = (df_tmp['zeros'].values) / nbr_columns\n",
        "            #remove pixel with > 20% zeros or missing\n",
        "            df_tmp = df_tmp[df_tmp['pct_zeros'] <= 0.2]\n",
        "            df_tmp = df_tmp.drop(columns=['zeros', 'pct_zeros'])\n",
        "            \n",
        "            #print(f'Joining year : {year}')\n",
        "            df_pixel_values_prov_scene = df_pixel_values_prov_scene.merge(df_tmp, how='inner', left_index=True, right_index=True)\n",
        "            del(df_tmp)\n",
        "        \n",
        "        \n",
        "        if continue_next_scene:\n",
        "            del(df_pixel_values_prov_scene)\n",
        "            continue\n",
        "        \n",
        "\n",
        "        print('Joining tambon_key')   \n",
        "        if len(df_pixel_values_prov_scene) > 0:\n",
        "            df_tambon_scene_rowcol_map = pd.read_parquet(os.path.join(pixel_rowcol_map_tambon_folder, f'df_pixel_map_tambon_{scene_id}.parquet')).set_index(['scene_id', 'row', 'col'])\n",
        "            df_tambon_scene_rowcol_map = df_tambon_scene_rowcol_map.copy().loc[df_pixel_values_prov_scene.index]\n",
        "            \n",
        "            df_pixel_values_prov_scene = df_pixel_values_prov_scene.merge(df_tambon_scene_rowcol_map, how='inner', left_index=True, right_index=True)\n",
        "            del(df_tambon_scene_rowcol_map)\n",
        "        else:\n",
        "            df_pixel_values_prov_scene['tambon_key'] = np.nan\n",
        "\n",
        "        df_pixel_values_prov_scene = df_pixel_values_prov_scene.reset_index().set_index(['scene_id', 'row', 'col', 'prov_cd', 'tambon_key'], drop=True)        \n",
        "        df_pixel_values_prov_scene.columns = [col[-8:] for col in df_pixel_values_prov_scene.columns]\n",
        "\n",
        "        start_date = datetime.strptime(min(df_pixel_values_prov_scene.columns), '%Y%m%d')\n",
        "        last_date = datetime.strptime(max(df_pixel_values_prov_scene.columns), '%Y%m%d')\n",
        "\n",
        "        list_complete_dates = []\n",
        "\n",
        "        for i in range(int((last_date - start_date).days / CYCLE_DAYS)):\n",
        "            list_complete_dates.append(datetime.strftime(start_date + timedelta(i * CYCLE_DAYS), '%Y%m%d'))\n",
        "        \n",
        "        df_pixel_values_prov_scene= df_pixel_values_prov_scene.reindex(columns=list_complete_dates)\n",
        "\n",
        "        nbr_columns = len(df_pixel_values_prov_scene.columns)\n",
        "\n",
        "        df_pixel_values_prov_scene['zeros'] = np.where(df_pixel_values_prov_scene.values == 0, 1, 0).sum(axis=1)\n",
        "        df_pixel_values_prov_scene['nans'] = np.where(np.isnan(df_pixel_values_prov_scene.values), 1, 0).sum(axis=1)\n",
        "        df_pixel_values_prov_scene['pct_missing'] = (df_pixel_values_prov_scene['zeros'].values + df_pixel_values_prov_scene['nans'].values) / nbr_columns\n",
        "        #remove pixel with > 20% zeros or missing\n",
        "        df_pixel_values_prov_scene = df_pixel_values_prov_scene[df_pixel_values_prov_scene['pct_missing'] <= 0.2]\n",
        "\n",
        "        #recheck whether there is the same file created between processing\n",
        "        if ~os.path.exists(out_path):\n",
        "            df_pixel_values_prov_scene.to_parquet(out_path)\n",
        "\n",
        "        print(f'scene_id : {scene_id} done')\n",
        "        print()\n",
        "        del(df_pixel_values_prov_scene)\n",
        "    \n",
        "    print('############')        \n",
        "    print()"
      ],
      "execution_count": 0,
      "outputs": [
        {
          "output_type": "display_data",
          "data": {
            "application/vnd.jupyter.widget-view+json": {
              "model_id": "ce2be473b5504896b2cad1156f141cd8",
              "version_minor": 0,
              "version_major": 2
            },
            "text/plain": [
              "HBox(children=(IntProgress(value=0, max=77), HTML(value='')))"
            ]
          },
          "metadata": {
            "tags": []
          }
        },
        {
          "output_type": "stream",
          "text": [
            "Processing : p66\n",
            "Loading scene_id : 130049\n",
            "Loading year : 2015\n",
            "Loading year : 2016\n",
            "Loading year : 2017\n"
          ],
          "name": "stdout"
        }
      ]
    },
    {
      "cell_type": "markdown",
      "metadata": {
        "id": "XAWsgQbUki4O",
        "colab_type": "text"
      },
      "source": [
        "# Test"
      ]
    },
    {
      "cell_type": "code",
      "metadata": {
        "id": "q7sjpTna5cjU",
        "colab_type": "code",
        "colab": {
          "base_uri": "https://localhost:8080/",
          "height": 167
        },
        "outputId": "f341b7aa-6478-4ee7-ba25-8d3fa64d0988"
      },
      "source": [
        "df_test = df_pixel_values_prov_scene.copy()"
      ],
      "execution_count": 9,
      "outputs": [
        {
          "output_type": "error",
          "ename": "NameError",
          "evalue": "ignored",
          "traceback": [
            "\u001b[0;31m---------------------------------------------------------------------------\u001b[0m",
            "\u001b[0;31mNameError\u001b[0m                                 Traceback (most recent call last)",
            "\u001b[0;32m<ipython-input-9-e87d1bd6e5bf>\u001b[0m in \u001b[0;36m<module>\u001b[0;34m()\u001b[0m\n\u001b[0;32m----> 1\u001b[0;31m \u001b[0mdf_test\u001b[0m \u001b[0;34m=\u001b[0m \u001b[0mdf_pixel_values_prov_scene\u001b[0m\u001b[0;34m.\u001b[0m\u001b[0mcopy\u001b[0m\u001b[0;34m(\u001b[0m\u001b[0;34m)\u001b[0m\u001b[0;34m\u001b[0m\u001b[0;34m\u001b[0m\u001b[0m\n\u001b[0m",
            "\u001b[0;31mNameError\u001b[0m: name 'df_pixel_values_prov_scene' is not defined"
          ]
        }
      ]
    },
    {
      "cell_type": "code",
      "metadata": {
        "id": "QBOrrGZw5c5g",
        "colab_type": "code",
        "colab": {}
      },
      "source": [
        "df_tambon_scene_rowcol_map"
      ],
      "execution_count": 0,
      "outputs": []
    },
    {
      "cell_type": "code",
      "metadata": {
        "id": "Gs2mKGuK6Mtm",
        "colab_type": "code",
        "colab": {}
      },
      "source": [
        ""
      ],
      "execution_count": 0,
      "outputs": []
    },
    {
      "cell_type": "code",
      "metadata": {
        "id": "ctKDq4y05tIl",
        "colab_type": "code",
        "colab": {}
      },
      "source": [
        "df_test['tambon_key'] = df_tambon_scene_rowcol_map['tambon_key']\n",
        "df_test\n"
      ],
      "execution_count": 0,
      "outputs": []
    },
    {
      "cell_type": "code",
      "metadata": {
        "id": "MfSmGPZ855X1",
        "colab_type": "code",
        "colab": {}
      },
      "source": [
        "df_test"
      ],
      "execution_count": 0,
      "outputs": []
    },
    {
      "cell_type": "code",
      "metadata": {
        "id": "KR7KCO3A5_-t",
        "colab_type": "code",
        "colab": {}
      },
      "source": [
        ""
      ],
      "execution_count": 0,
      "outputs": []
    }
  ]
}